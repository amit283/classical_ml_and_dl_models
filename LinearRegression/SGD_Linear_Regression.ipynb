{
 "cells": [
  {
   "cell_type": "markdown",
   "metadata": {
    "colab_type": "text",
    "id": "p4Y3HuiTW_A9"
   },
   "source": [
    "## Stochastic Gradient Descent For Linear Regression"
   ]
  },
  {
   "cell_type": "code",
   "execution_count": 0,
   "metadata": {
    "colab": {},
    "colab_type": "code",
    "id": "ASLkvMHuW_A-"
   },
   "outputs": [],
   "source": [
    "import warnings\n",
    "warnings.filterwarnings(\"ignore\")\n",
    "from tqdm import tqdm\n",
    "from sklearn.datasets import load_boston\n",
    "from sklearn.preprocessing import StandardScaler\n",
    "import pandas as pd\n",
    "import numpy as np\n",
    "import matplotlib.pyplot as plt\n",
    "from sklearn.linear_model import SGDRegressor\n",
    "from sklearn.metrics import mean_squared_error\n",
    "import random\n",
    "from sklearn.model_selection import train_test_split"
   ]
  },
  {
   "cell_type": "code",
   "execution_count": 0,
   "metadata": {
    "colab": {},
    "colab_type": "code",
    "id": "Z26wm-0BW_BB"
   },
   "outputs": [],
   "source": [
    "class MySGDClassifier():\n",
    "    def __init__(self,sample_size,iterations):\n",
    "        self._sample_size=sample_size\n",
    "        self._iterations=iterations\n",
    "        self._coefficients=0\n",
    "        self._intercept=0\n",
    "            \n",
    "    def find_minima(self,d_train):\n",
    "        self._coefficients=np.array([random.uniform(-2,2) for _ in range(1,d_train.shape[1])],ndmin=2)\n",
    "        self._intercept=0\n",
    "            \n",
    "        for itr in range(self._iterations):\n",
    "          \n",
    "            tr_data=d_train.sample(self._sample_size,random_state=itr,axis=0)\n",
    "            x=np.array(tr_data.drop('price',axis=1))\n",
    "            y=np.array(tr_data['price'])\n",
    "           \n",
    "            const=(2/x.shape[0])\n",
    "            temp_w=np.zeros(shape=(1,13))\n",
    "            temp_b=0\n",
    "            \n",
    "            for i in range(1,self._sample_size):\n",
    "              y_hat_i=np.dot(self._coefficients,x[i].T)+self._intercept\n",
    "              temp_w+=(y[i]-y_hat_i) *(x[i])\n",
    "              temp_b+=(y[i]-y_hat_i)\n",
    "           \n",
    "          \n",
    "            temp_w*=(-2/self._sample_size)\n",
    "            temp_b*=(-2/self._sample_size)\n",
    "            self._coefficients=(self._coefficients-(0.12*temp_w))\n",
    "            self._intercept=(self._intercept-(0.12*temp_b))              \n",
    " \n",
    "      \n",
    "    def make_predictions(self,d_test):\n",
    "         return np.dot(d_test, self._coefficients.T)+self._intercept \n",
    "  \n",
    "    def plot_actual_vs_pred(self,test_pred,y_test):\n",
    "        plt.figure(1,figsize=(8,5)) \n",
    "        plt.scatter(y_test,test_pred)\n",
    "        plt.xlabel(\"Actual Cost\")\n",
    "        plt.ylabel(\"Predicted Cost\")\n",
    "        plt.title(\"Actual vs Predicted Cost For Test Data\")\n",
    "        plt.show()\n",
    "        print(\"+\"*30)\n",
    "        print(\"MSE                   : \",mean_squared_error(y_test, test_pred))\n",
    "        print(\"Weights/Coeffiecients : \", self._coefficients)\n",
    "        print(\"Intercept             : \",self._intercept)\n",
    "        print(\"+\"*30)"
   ]
  },
  {
   "cell_type": "code",
   "execution_count": 0,
   "metadata": {
    "colab": {},
    "colab_type": "code",
    "id": "B3SJrwikW_BK"
   },
   "outputs": [],
   "source": [
    "b_data=pd.DataFrame(data=load_boston().data)\n",
    "target=load_boston().target\n",
    "d_tr,d_test, y_tr, y_test=train_test_split(b_data, target, test_size=0.33, random_state=5)"
   ]
  },
  {
   "cell_type": "code",
   "execution_count": 0,
   "metadata": {
    "colab": {},
    "colab_type": "code",
    "id": "97jSYB1ZW_BM"
   },
   "outputs": [],
   "source": [
    "# Standardizing the data so that performance of SGD will increase i.e it will converge fast\n",
    "std=StandardScaler()\n",
    "std_tr_data=std.fit_transform(d_tr)\n",
    "std_test_data=std.transform(d_test)"
   ]
  },
  {
   "cell_type": "code",
   "execution_count": 0,
   "metadata": {
    "colab": {},
    "colab_type": "code",
    "id": "vR6yCWhJW_BO"
   },
   "outputs": [],
   "source": [
    "d_train1=pd.DataFrame(data=std_tr_data)\n",
    "d_train1['price']=y_tr"
   ]
  },
  {
   "cell_type": "code",
   "execution_count": 0,
   "metadata": {
    "colab": {},
    "colab_type": "code",
    "id": "BmCLvF8zjDaK"
   },
   "outputs": [],
   "source": [
    "def compute_all(d_train,test_data,y_test,iterations,sample_size):\n",
    "    my_sgd=MySGDClassifier(sample_size,iterations)\n",
    "    my_sgd.find_minima(d_train1)\n",
    "    test_pred=my_sgd.make_predictions(test_data)\n",
    "    my_sgd.plot_actual_vs_pred(test_pred,y_test)"
   ]
  },
  {
   "cell_type": "markdown",
   "metadata": {
    "colab_type": "text",
    "id": "VeJeijJ5W_BQ"
   },
   "source": [
    "#### Training and testing against Test dataset with 30 iterations"
   ]
  },
  {
   "cell_type": "code",
   "execution_count": 203,
   "metadata": {
    "colab": {
     "base_uri": "https://localhost:8080/",
     "height": 477
    },
    "colab_type": "code",
    "id": "oCcxSGnnW_BR",
    "outputId": "3b19e98c-da44-43bb-91e5-9e49a35c2d86"
   },
   "outputs": [
    {
     "data": {
      "image/png": "[encoded data removed]",
      "text/plain": [
       "<Figure size 576x360 with 1 Axes>"
      ]
     },
     "metadata": {
      "tags": []
     },
     "output_type": "display_data"
    },
    {
     "name": "stdout",
     "output_type": "stream",
     "text": [
      "++++++++++++++++++++++++++++++\n",
      "MSE                   :  31.37739211304358\n",
      "Weights/Coeffiecients :  [[-1.00717852  0.21603858 -0.18299627  0.3492509  -1.02392846  3.49561218\n",
      "   0.03307049 -2.9516795   1.58864193  0.01315107 -2.15431507  1.08253157\n",
      "  -2.70573371]]\n",
      "Intercept             :  [22.83713775]\n",
      "++++++++++++++++++++++++++++++\n"
     ]
    }
   ],
   "source": [
    "compute_all(d_train1,std_test_data,y_test,iterations=40,sample_size=30)"
   ]
  },
  {
   "cell_type": "markdown",
   "metadata": {
    "colab_type": "text",
    "id": "XiUUcpV6W_BW"
   },
   "source": [
    "#### Training and testing against Test dataset with 70 iterations"
   ]
  },
  {
   "cell_type": "code",
   "execution_count": 202,
   "metadata": {
    "colab": {
     "base_uri": "https://localhost:8080/",
     "height": 477
    },
    "colab_type": "code",
    "id": "GlV4ThqGW_BX",
    "outputId": "cee2c95e-96fe-4e25-f9df-7e42ebf13372"
   },
   "outputs": [
    {
     "data": {
      "image/png": "[encoded data removed]",
      "text/plain": [
       "<Figure size 576x360 with 1 Axes>"
      ]
     },
     "metadata": {
      "tags": []
     },
     "output_type": "display_data"
    },
    {
     "name": "stdout",
     "output_type": "stream",
     "text": [
      "++++++++++++++++++++++++++++++\n",
      "MSE                   :  30.25319101848719\n",
      "Weights/Coeffiecients :  [[-1.68588636  0.76870825 -0.10629362  0.1270256  -0.90590217  3.63550199\n",
      "   0.1133121  -2.5774426   2.26615579 -1.30404873 -2.40256347  1.38085018\n",
      "  -2.77010962]]\n",
      "Intercept             :  [22.71648945]\n",
      "++++++++++++++++++++++++++++++\n"
     ]
    }
   ],
   "source": [
    "compute_all(d_train1,std_test_data,y_test,iterations=50,sample_size=30)"
   ]
  },
  {
   "cell_type": "markdown",
   "metadata": {
    "colab_type": "text",
    "id": "ySFytvmEW_Bb"
   },
   "source": [
    "#### Training and testing against Test dataset with 100 iterations"
   ]
  },
  {
   "cell_type": "code",
   "execution_count": 201,
   "metadata": {
    "colab": {
     "base_uri": "https://localhost:8080/",
     "height": 477
    },
    "colab_type": "code",
    "id": "Wle4EGXIW_Bc",
    "outputId": "f2adfcd8-8bcd-403a-af2f-9b8b84136713"
   },
   "outputs": [
    {
     "data": {
      "image/png": "[encoded data removed]",
      "text/plain": [
       "<Figure size 576x360 with 1 Axes>"
      ]
     },
     "metadata": {
      "tags": []
     },
     "output_type": "display_data"
    },
    {
     "name": "stdout",
     "output_type": "stream",
     "text": [
      "++++++++++++++++++++++++++++++\n",
      "MSE                   :  29.79079487504899\n",
      "Weights/Coeffiecients :  [[-1.44396186  0.6059506  -0.09184959  0.01220607 -1.19700039  3.1638696\n",
      "  -0.11701379 -2.72942825  2.25736475 -1.53717416 -2.29540154  1.17211594\n",
      "  -3.13460826]]\n",
      "Intercept             :  [22.27095764]\n",
      "++++++++++++++++++++++++++++++\n"
     ]
    }
   ],
   "source": [
    "compute_all(d_train1,std_test_data,y_test,iterations=100,sample_size=30)"
   ]
  },
  {
   "cell_type": "markdown",
   "metadata": {
    "colab_type": "text",
    "id": "G-laacC8W_Bg"
   },
   "source": [
    "### SGDRegressor Using sklearn "
   ]
  },
  {
   "cell_type": "code",
   "execution_count": 0,
   "metadata": {
    "colab": {},
    "colab_type": "code",
    "id": "M3qREoSWW_Bh"
   },
   "outputs": [],
   "source": [
    "t_data=pd.DataFrame(data=load_boston().data)\n",
    "target=load_boston().target\n",
    "d_tr,d_test, y_tr, y_test=train_test_split(t_data, target, test_size=0.33, random_state=5)"
   ]
  },
  {
   "cell_type": "code",
   "execution_count": 0,
   "metadata": {
    "colab": {},
    "colab_type": "code",
    "id": "8-ajxTncW_Bk"
   },
   "outputs": [],
   "source": [
    "# Standardizing the data so that performance of SGD will increase i.e it will converge fast\n",
    "std=StandardScaler()\n",
    "std_tr_data=std.fit_transform(d_tr)\n",
    "std_test_data=std.transform(d_test)"
   ]
  },
  {
   "cell_type": "code",
   "execution_count": 0,
   "metadata": {
    "colab": {},
    "colab_type": "code",
    "id": "8C-WIRdeguAy"
   },
   "outputs": [],
   "source": [
    "def print_info(mse,coeff,intercept):\n",
    "    print(\"+\"*30)\n",
    "    print(\"MSE : \",mse)\n",
    "    print(\"Weights/Coeffiecients : \",coeff)\n",
    "    print(\"Intercept : \",intercept)\n",
    "    print(\"+\"*30)"
   ]
  },
  {
   "cell_type": "code",
   "execution_count": 0,
   "metadata": {
    "colab": {},
    "colab_type": "code",
    "id": "uGKHebFpW_Bn"
   },
   "outputs": [],
   "source": [
    "def sklearnsSGD(d_tr,y_tr,d_test,y_test,itr=15):\n",
    "    clf = SGDRegressor(max_iter=itr,random_state=10)\n",
    "    clf.fit(d_tr, y_tr)\n",
    "    test_pred=clf.predict(d_test)\n",
    "    plt.scatter(y_test,test_pred)\n",
    "    plt.xlabel(\"Actual Cost\")\n",
    "    plt.ylabel(\"Predicted Cost\")\n",
    "    plt.title(\"Actual vs Predicted Cost For Test Data\")\n",
    "    plt.show()\n",
    "    return mean_squared_error(y_tr, clf.predict(d_tr)),clf.coef_,clf.intercept_"
   ]
  },
  {
   "cell_type": "code",
   "execution_count": 139,
   "metadata": {
    "colab": {
     "base_uri": "https://localhost:8080/",
     "height": 423
    },
    "colab_type": "code",
    "id": "16J_CzyzW_Bq",
    "outputId": "7a2046d9-de43-4c87-fa9b-00e8f12c5388"
   },
   "outputs": [
    {
     "data": {
      "image/png": "[encoded data removed]",
      "text/plain": [
       "<Figure size 432x288 with 1 Axes>"
      ]
     },
     "metadata": {
      "tags": []
     },
     "output_type": "display_data"
    },
    {
     "name": "stdout",
     "output_type": "stream",
     "text": [
      "++++++++++++++++++++++++++++++\n",
      "MSE :  19.886552442640202\n",
      "Weights/Coeffiecients :  [-1.14213423  0.6729475  -0.52259626  0.26959962 -1.02628079  3.01344071\n",
      " -0.45182218 -2.45564735  1.42475077 -0.80957698 -2.02464983  1.01018053\n",
      " -3.28711035]\n",
      "Intercept :  [22.5486766]\n",
      "++++++++++++++++++++++++++++++\n"
     ]
    }
   ],
   "source": [
    "mse,coeff,inter=sklearnsSGD(std_tr_data,y_tr,std_test_data,y_test,itr=30)\n",
    "print_info(mse,coeff,inter)"
   ]
  },
  {
   "cell_type": "code",
   "execution_count": 140,
   "metadata": {
    "colab": {
     "base_uri": "https://localhost:8080/",
     "height": 423
    },
    "colab_type": "code",
    "id": "oYDfL3_iW_Bu",
    "outputId": "a570086c-6bf3-4e01-fa7b-ca2db27916ea"
   },
   "outputs": [
    {
     "data": {
      "image/png": "[encoded data removed]",
      "text/plain": [
       "<Figure size 432x288 with 1 Axes>"
      ]
     },
     "metadata": {
      "tags": []
     },
     "output_type": "display_data"
    },
    {
     "name": "stdout",
     "output_type": "stream",
     "text": [
      "++++++++++++++++++++++++++++++\n",
      "MSE :  19.886552442640202\n",
      "Weights/Coeffiecients :  [-1.14213423  0.6729475  -0.52259626  0.26959962 -1.02628079  3.01344071\n",
      " -0.45182218 -2.45564735  1.42475077 -0.80957698 -2.02464983  1.01018053\n",
      " -3.28711035]\n",
      "Intercept :  [22.5486766]\n",
      "++++++++++++++++++++++++++++++\n"
     ]
    }
   ],
   "source": [
    "mse,coeff,inter=sklearnsSGD(std_tr_data,y_tr,std_test_data,y_test,itr=70)\n",
    "print_info(mse,coeff,inter)"
   ]
  },
  {
   "cell_type": "code",
   "execution_count": 141,
   "metadata": {
    "colab": {
     "base_uri": "https://localhost:8080/",
     "height": 423
    },
    "colab_type": "code",
    "id": "eP3wvtkGW_By",
    "outputId": "271e1f51-2fff-4a0b-965e-a6f276e6df0e"
   },
   "outputs": [
    {
     "data": {
      "image/png": "[encoded data removed]",
      "text/plain": [
       "<Figure size 432x288 with 1 Axes>"
      ]
     },
     "metadata": {
      "tags": []
     },
     "output_type": "display_data"
    },
    {
     "name": "stdout",
     "output_type": "stream",
     "text": [
      "++++++++++++++++++++++++++++++\n",
      "MSE :  19.886552442640202\n",
      "Weights/Coeffiecients :  [-1.14213423  0.6729475  -0.52259626  0.26959962 -1.02628079  3.01344071\n",
      " -0.45182218 -2.45564735  1.42475077 -0.80957698 -2.02464983  1.01018053\n",
      " -3.28711035]\n",
      "Intercept :  [22.5486766]\n",
      "++++++++++++++++++++++++++++++\n"
     ]
    }
   ],
   "source": [
    "mse,coeff,inter=sklearnsSGD(std_tr_data,y_tr,std_test_data,y_test,itr=100)\n",
    "print_info(mse,coeff,inter)"
   ]
  },
  {
   "cell_type": "markdown",
   "metadata": {
    "colab_type": "text",
    "id": "5M8F_lJaW_B9"
   },
   "source": [
    "## Summary:"
   ]
  },
  {
   "cell_type": "code",
   "execution_count": 1,
   "metadata": {
    "colab": {
     "base_uri": "https://localhost:8080/",
     "height": 272
    },
    "colab_type": "code",
    "id": "g9prZWd1W_B_",
    "outputId": "1130e9ed-547f-4c48-c52b-32493cc11ad3"
   },
   "outputs": [
    {
     "name": "stdout",
     "output_type": "stream",
     "text": [
      "\n",
      "        SGD     | iterations  |           MSE          | \n",
      "        ----------------------------------------------------\n",
      "        MySGD   |    30       |   31.37739211304358    |\n",
      "        sklearn |    30       |   19.886552442640202   |\n",
      "        -----------------------------------------------------\n",
      "        MySGD   |    70       |   30.25319101848719    |\n",
      "        sklearn |    70       |   19.886552442640202   |\n",
      "        -----------------------------------------------------\n",
      "        MySGD   |    100      |   29.79079487504899    |\n",
      "        sklearn |    100      |   19.886552442640202   |\n",
      "        -----------------------------------------------------\n",
      "\n",
      "\n"
     ]
    }
   ],
   "source": [
    "print(\"\"\"\n",
    "        SGD     | iterations  |           MSE          | \n",
    "        ----------------------------------------------------\n",
    "        MySGD   |    30       |   31.37739211304358    |\n",
    "        sklearn |    30       |   19.886552442640202   |\n",
    "        -----------------------------------------------------\n",
    "        MySGD   |    70       |   30.25319101848719    |\n",
    "        sklearn |    70       |   19.886552442640202   |\n",
    "        -----------------------------------------------------\n",
    "        MySGD   |    100      |   29.79079487504899    |\n",
    "        sklearn |    100      |   19.886552442640202   |\n",
    "        -----------------------------------------------------\n",
    "\n",
    "\"\"\")"
   ]
  },
  {
   "cell_type": "markdown",
   "metadata": {
    "colab_type": "text",
    "id": "Fm2kaa31W_CD"
   },
   "source": [
    "## Conclusion:"
   ]
  },
  {
   "cell_type": "markdown",
   "metadata": {
    "colab_type": "text",
    "id": "oNMzdt_4W_CE"
   },
   "source": [
    "1. SGD is iterative algorithm i.e with each iteration over training data we are trying to find best weight vector with which our loss functions gives minimum value.\n",
    "2. SGD basically uses update function to reach or  make step by step progress towards minima.\n",
    "3. Learning rate is our hyper-parameter in case of SGD as it decides the step sizes.\n",
    "4. If learning rate is two low our model will make very small progress towards minimum and may halt before or at local minima.\n",
    "5. If it too large we may crossover minima\n",
    "6. So best thing is to do is reduce the learning rate on each iteration for first few iteration it better be huge reduction so that we surpasses the local mimima.\n",
    "7. In the dataset which we have choosen that is Boston House Prices dataset here our number of datapoints were less but in case of huge datasets it is will be very costly to do summation over all datapoints for each update so we are using random K no of datapoints for each iteration such a way that n>=k>=1.\n",
    "8. That will make SGD very fast and computationally efficient."
   ]
  }
 ],
 "metadata": {
  "colab": {
   "collapsed_sections": [],
   "name": "SGD_with_sampling.ipynb",
   "provenance": [],
   "version": "0.3.2"
  },
  "kernelspec": {
   "display_name": "Python 3",
   "language": "python",
   "name": "python3"
  },
  "language_info": {
   "codemirror_mode": {
    "name": "ipython",
    "version": 3
   },
   "file_extension": ".py",
   "mimetype": "text/x-python",
   "name": "python",
   "nbconvert_exporter": "python",
   "pygments_lexer": "ipython3",
   "version": "3.6.5"
  }
 },
 "nbformat": 4,
 "nbformat_minor": 1
}
